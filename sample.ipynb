{
 "cells": [
  {
   "cell_type": "markdown",
   "id": "8ddc892e-f1b4-4907-9542-dc6ff7647507",
   "metadata": {},
   "source": [
    "= hello"
   ]
  },
  {
   "cell_type": "code",
   "execution_count": 2,
   "id": "aa62a9eb-5a1a-4ca6-a081-1f4c18e3adbf",
   "metadata": {},
   "outputs": [],
   "source": [
    "# hello"
   ]
  },
  {
   "cell_type": "markdown",
   "id": "64674df2-1ec2-4278-9b15-6c1c2c7d05a8",
   "metadata": {},
   "source": [
    "# hello"
   ]
  },
  {
   "cell_type": "markdown",
   "id": "4731f459-3289-4ebf-b001-da4954fd55f7",
   "metadata": {},
   "source": [
    "## fastai sample"
   ]
  },
  {
   "cell_type": "code",
   "execution_count": null,
   "id": "7b10636e-0766-457a-bee1-3152d71cc911",
   "metadata": {},
   "outputs": [],
   "source": []
  }
 ],
 "metadata": {
  "kernelspec": {
   "display_name": "Python 3 (ipykernel)",
   "language": "python",
   "name": "python3"
  },
  "language_info": {
   "codemirror_mode": {
    "name": "ipython",
    "version": 3
   },
   "file_extension": ".py",
   "mimetype": "text/x-python",
   "name": "python",
   "nbconvert_exporter": "python",
   "pygments_lexer": "ipython3",
   "version": "3.9.13"
  }
 },
 "nbformat": 4,
 "nbformat_minor": 5
}
